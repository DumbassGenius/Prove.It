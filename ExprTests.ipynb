{
 "cells": [
  {
   "cell_type": "code",
   "execution_count": 4,
   "metadata": {},
   "outputs": [
    {
     "ename": "NameError",
     "evalue": "name 'EnsureIsListOf' is not defined",
     "output_type": "error",
     "traceback": [
      "\u001b[1;31m---------------------------------------------------------------------------\u001b[0m",
      "\u001b[1;31mNameError\u001b[0m                                 Traceback (most recent call last)",
      "Cell \u001b[1;32mIn[4], line 1\u001b[0m\n\u001b[1;32m----> 1\u001b[0m \u001b[38;5;28;01mfrom\u001b[39;00m \u001b[38;5;21;01mExpressions\u001b[39;00m \u001b[38;5;28;01mimport\u001b[39;00m \u001b[38;5;241m*\u001b[39m\n",
      "File \u001b[1;32m\\\\mfsfs.uwaterloo.ca\\s26marti\\NexusMyDocuments\\MathProgram\\Expressions.py:50\u001b[0m\n\u001b[0;32m     47\u001b[0m         \u001b[38;5;28;01melse\u001b[39;00m:\n\u001b[0;32m     48\u001b[0m             \u001b[38;5;28;01mreturn\u001b[39;00m Var()\n\u001b[1;32m---> 50\u001b[0m anyType \u001b[38;5;241m=\u001b[39m ExprType(\u001b[38;5;124m\"\u001b[39m\u001b[38;5;124many\u001b[39m\u001b[38;5;124m\"\u001b[39m)\n\u001b[0;32m     52\u001b[0m \u001b[38;5;28;01mclass\u001b[39;00m \u001b[38;5;21;01mConstruct\u001b[39;00m:\n\u001b[0;32m     53\u001b[0m     \u001b[38;5;28;01mdef\u001b[39;00m \u001b[38;5;21m__init__\u001b[39m(\u001b[38;5;28mself\u001b[39m, call: \u001b[38;5;28mstr\u001b[39m, inputTypes: \u001b[38;5;28mlist\u001b[39m, outputType: ExprType, renderFunct):\n",
      "File \u001b[1;32m\\\\mfsfs.uwaterloo.ca\\s26marti\\NexusMyDocuments\\MathProgram\\Expressions.py:32\u001b[0m, in \u001b[0;36mExprType.__init__\u001b[1;34m(self, name, *parents)\u001b[0m\n\u001b[0;32m     30\u001b[0m     parents \u001b[38;5;241m=\u001b[39m [anyType]\n\u001b[0;32m     31\u001b[0m \u001b[38;5;28;01melse\u001b[39;00m:\n\u001b[1;32m---> 32\u001b[0m     \u001b[38;5;28mself\u001b[39m\u001b[38;5;241m.\u001b[39mparents \u001b[38;5;241m=\u001b[39m EnsureIsListOf(parents, ExprType)\n\u001b[0;32m     33\u001b[0m \u001b[38;5;28mself\u001b[39m\u001b[38;5;241m.\u001b[39mname \u001b[38;5;241m=\u001b[39m EnsureIsType(name, \u001b[38;5;28mstr\u001b[39m)\n\u001b[0;32m     35\u001b[0m types[name] \u001b[38;5;241m=\u001b[39m \u001b[38;5;28mself\u001b[39m\n",
      "\u001b[1;31mNameError\u001b[0m: name 'EnsureIsListOf' is not defined"
     ]
    }
   ],
   "source": [
    "from Expressions import *"
   ]
  },
  {
   "cell_type": "code",
   "execution_count": 6,
   "metadata": {},
   "outputs": [
    {
     "ename": "NameError",
     "evalue": "name 'ExprType' is not defined",
     "output_type": "error",
     "traceback": [
      "\u001b[1;31m---------------------------------------------------------------------------\u001b[0m",
      "\u001b[1;31mNameError\u001b[0m                                 Traceback (most recent call last)",
      "Cell \u001b[1;32mIn[6], line 1\u001b[0m\n\u001b[1;32m----> 1\u001b[0m formula \u001b[38;5;241m=\u001b[39m ExprType(\u001b[38;5;124m\"\u001b[39m\u001b[38;5;124mformula\u001b[39m\u001b[38;5;124m\"\u001b[39m)\n\u001b[0;32m      3\u001b[0m imp \u001b[38;5;241m=\u001b[39m Construct(\u001b[38;5;124m\"\u001b[39m\u001b[38;5;124mimp\u001b[39m\u001b[38;5;124m\"\u001b[39m, [formula,formula], formula, \u001b[38;5;124m\"\u001b[39m\u001b[38;5;124m(\u001b[39m\u001b[38;5;132;01m{0}\u001b[39;00m\u001b[38;5;124m \u001b[39m\u001b[38;5;124m\\\u001b[39m\u001b[38;5;124mimp \u001b[39m\u001b[38;5;132;01m{1}\u001b[39;00m\u001b[38;5;124m)\u001b[39m\u001b[38;5;124m\"\u001b[39m)\n",
      "\u001b[1;31mNameError\u001b[0m: name 'ExprType' is not defined"
     ]
    }
   ],
   "source": [
    "formula = ExprType(\"formula\")\n",
    "\n",
    "imp = Construct(\"imp\", [formula,formula], formula, \"({0} \\imp {1})\")"
   ]
  },
  {
   "cell_type": "code",
   "execution_count": null,
   "metadata": {},
   "outputs": [],
   "source": []
  }
 ],
 "metadata": {
  "kernelspec": {
   "display_name": "base",
   "language": "python",
   "name": "python3"
  },
  "language_info": {
   "codemirror_mode": {
    "name": "ipython",
    "version": 3
   },
   "file_extension": ".py",
   "mimetype": "text/x-python",
   "name": "python",
   "nbconvert_exporter": "python",
   "pygments_lexer": "ipython3",
   "version": "3.11.5"
  }
 },
 "nbformat": 4,
 "nbformat_minor": 2
}

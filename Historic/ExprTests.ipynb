{
 "cells": [
  {
   "cell_type": "code",
   "execution_count": 1,
   "metadata": {},
   "outputs": [],
   "source": [
    "from Expressions import *\n",
    "from DefaultConstructions import *\n",
    "\n",
    "from ExpressionWrapper import *"
   ]
  },
  {
   "cell_type": "code",
   "execution_count": 2,
   "metadata": {},
   "outputs": [],
   "source": [
    "formula = ExprType(\"formula\")\n",
    "imp = Construct(\"({0} -> {1})\",  defaultConstructionCreater([formula, formula], formula))"
   ]
  },
  {
   "cell_type": "code",
   "execution_count": 3,
   "metadata": {},
   "outputs": [
    {
     "name": "stdout",
     "output_type": "stream",
     "text": [
      "A\n",
      "B\n",
      "<class 'Expressions.ExprType'>\n",
      "(A -> B)\n",
      "<class 'Expressions.ExprType'>\n",
      "((A -> B) -> A)\n"
     ]
    }
   ],
   "source": [
    "expr1 = formula(\"A\")\n",
    "expr1.display()\n",
    "expr2 = formula(\"B\")\n",
    "expr2.display()\n",
    "expr3 = imp(expr1, expr2)\n",
    "expr3.display()\n",
    "expr4 = imp(expr3, expr1)\n",
    "expr4.display()"
   ]
  },
  {
   "cell_type": "code",
   "execution_count": 4,
   "metadata": {},
   "outputs": [
    {
     "name": "stdout",
     "output_type": "stream",
     "text": [
      "x\n",
      "y\n",
      "<class 'Expressions.ExprType'>\n",
      "<class 'Expressions.ExprType'>\n",
      "<class 'Expressions.ExprType'>\n",
      "True\n",
      "False\n",
      "<class 'Expressions.ExprType'>\n",
      "<class 'Expressions.ExprType'>\n",
      "((x -> y) -> x)\n",
      "('not_an_expr', 'is not ', <class 'Expressions.Expr'>, 'is', <class 'str'>)\n",
      "Expected 2 subexpressions, but got 0\n",
      "<class 'Expressions.ExprType'>\n",
      "Custom(x | y)\n",
      "z\n",
      "Var(formula, x, 140296403151504)\n",
      "Var(formula, y, 140296403146256)\n",
      "x\n",
      "y\n"
     ]
    }
   ],
   "source": [
    "# Test for variable creation\n",
    "var1 = formula(\"x\")\n",
    "var2 = formula(\"y\")\n",
    "print(var1.render())  # Expected: \"x\"\n",
    "print(var2.render())  # Expected: \"y\"\n",
    "\n",
    "\n",
    "# Test for equality of expressions\n",
    "expr1 = imp(var1, var2)\n",
    "expr2 = imp(var1, var2)\n",
    "expr3 = imp(var2, var1)\n",
    "\n",
    "print(expr1 == expr2)  # Expected: True\n",
    "print(expr1 == expr3)  # Expected: False\n",
    "\n",
    "# Test for nested constructs\n",
    "nested_expr = imp(imp(var1, var2), var1)\n",
    "nested_expr.display()  # Expected: \"((x -> y) -> x)\"\n",
    "\n",
    "# Test for invalid input types\n",
    "try:\n",
    "    invalid_expr = imp(var1, \"not_an_expr\")  # Should raise an error\n",
    "except TypeError as e:\n",
    "    print(e)  # Expected: Error message about invalid input type\n",
    "\n",
    "# Test for empty subexpressions\n",
    "try:\n",
    "    empty_expr = imp()  # Should raise an error\n",
    "except ValueError as e:\n",
    "    print(e)  # Expected: Error message about missing subexpressions\n",
    "\n",
    "# Test for custom render function\n",
    "custom_render = Construct(\n",
    "    lambda renderedSubExprs: f\"Custom({renderedSubExprs[0]} | {renderedSubExprs[1]})\",\n",
    "    defaultConstructionCreater([formula, formula], formula)\n",
    ")\n",
    "\n",
    "custom_expr = custom_render(var1, var2)\n",
    "custom_expr.display()  # Expected: \"Custom(x | y)\"\n",
    "\n",
    "# Test for context handling\n",
    "context = Context()\n",
    "var_in_context = formula(\"z\", context)\n",
    "print(var_in_context.render())  # Expected: \"z\"\n",
    "\n",
    "# Test for subexpression access\n",
    "print(expr1[0])  # Expected: var1 (x)\n",
    "print(expr1[1])  # Expected: var2 (y)\n",
    "\n",
    "# Test for iteration over subexpressions\n",
    "for subexpr in expr1:\n",
    "    print(subexpr.render())  # Expected: \"x\", \"y\""
   ]
  },
  {
   "cell_type": "code",
   "execution_count": 5,
   "metadata": {},
   "outputs": [
    {
     "name": "stdout",
     "output_type": "stream",
     "text": [
      "{Var(formula, x, 140296403097040)}\n",
      "<class 'Expressions.ExprType'>\n",
      "<class 'Expressions.ExprType'>\n",
      "{Var(formula, x, 140296403097040), Var(formula, y, 140296403095632), Var(formula, z, 140296403162832)}\n",
      "<class 'Expressions.ExprType'>\n",
      "{Var(formula, x, 140296403097040)}\n",
      "<class 'Expressions.ExprType'>\n",
      "{Var(formula, x, 140296403097040), Var(formula, x, 140296403162064)}\n",
      "True\n",
      "True\n"
     ]
    }
   ],
   "source": [
    "# Test for free variables of a single variable\n",
    "var1 = formula(\"x\")\n",
    "print(var1.freevars)  # Expected: {\"x\"}\n",
    "# Test for free variables of a nested expression\n",
    "nested_expr = imp(imp(var1, formula(\"y\")), formula(\"z\"))\n",
    "print(nested_expr.freevars)  # Expected: {\"x\", \"y\", \"z\"}\n",
    "\n",
    "# Test for free variables with repeated variables\n",
    "expr_with_repeats = imp(var1, var1)\n",
    "print(expr_with_repeats.freevars)  # Expected: {\"x\"}\n",
    "\n",
    "# Test for free variables with repeated variables\n",
    "expr_with_repeats = imp(var1, formula(\"x\"))\n",
    "print(expr_with_repeats.freevars)  # Expected: {\"x\"}\n",
    "\n",
    "# Test for free variables with context\n",
    "context = Context()\n",
    "var1= formula(\"x\", context)\n",
    "var2 = formula(\"x\", context)\n",
    "print(id(var1) == id(var2))  # Expected: True\n",
    "print(var1 == var2) # Expected: True\n",
    "\n",
    " "
   ]
  },
  {
   "cell_type": "code",
   "execution_count": 6,
   "metadata": {},
   "outputs": [
    {
     "name": "stdout",
     "output_type": "stream",
     "text": [
      "[formula, formula]\n",
      "<class 'Expressions.ExprType'>\n",
      "(A -> B)\n",
      "[formula, formula]\n",
      "<class 'Expressions.ExprType'>\n",
      "<class 'Expressions.ExprType'>\n",
      "[formula, formula]\n",
      "<class 'Expressions.ExprType'>\n",
      "[formula, formula]\n",
      "<class 'Expressions.ExprType'>\n",
      "((A -> C) -> B)\n"
     ]
    }
   ],
   "source": [
    "Reset()\n",
    "AddType(\"formula\")\n",
    "BasicConstruct(\"imp\", [\"formula\", \"formula\"], \"formula\", \"({0} -> {1})\")\n",
    "textToExpr(\"#imp(@formula(A), @formula(B))\").display()\n",
    "print(type(textToExpr(\"#imp(A, B)\").type))\n",
    "textToExpr(\"#imp(#imp(A,C), B)\").display()\n"
   ]
  },
  {
   "cell_type": "code",
   "execution_count": null,
   "metadata": {},
   "outputs": [],
   "source": [
    "\n"
   ]
  },
  {
   "cell_type": "code",
   "execution_count": null,
   "metadata": {},
   "outputs": [],
   "source": []
  }
 ],
 "metadata": {
  "kernelspec": {
   "display_name": ".venv",
   "language": "python",
   "name": "python3"
  },
  "language_info": {
   "codemirror_mode": {
    "name": "ipython",
    "version": 3
   },
   "file_extension": ".py",
   "mimetype": "text/x-python",
   "name": "python",
   "nbconvert_exporter": "python",
   "pygments_lexer": "ipython3",
   "version": "3.11.2"
  }
 },
 "nbformat": 4,
 "nbformat_minor": 2
}
